{
 "cells": [
  {
   "cell_type": "markdown",
   "metadata": {},
   "source": [
    "# Data\n",
    "The Framingham Heart Study is one of the most significant longitudinal studies in medical history, initiated in 1948 in Framingham, Massachusetts, USA. It aimed to identify the common factors or characteristics that contribute to coronary heart disease by following its development over a 20 year period in a large group of participants. The study identified several major risk factors for cardiovascular disease, including high blood pressure, high cholesterol levels, smoking, obesity, diabetes, and physical inactivity.\n",
    "\n",
    "The main question we wanted to answer was: what variables in the dataset are the greatest predictors to onset a 10 year risk of coronary heart disease in a patient? We chose to make a decision tree, kNN, and linear regression models to try to answer our question.\n",
    "\n",
    "## Data Cleaning / Analysis Preparation\n",
    "\n",
    "We explored various methods for data cleaning/preparing for analysis, including mean and median imputation techniques. However, our analysis revealed that the outcomes did not substantially diverge from those obtained by simply eliminating the missing values. Notably, the decision tree and kNN models yielded the best outcomes when NA values were dropped (no imputation), while linear regression exhibited only marginal improvement with median imputation. Thus, we opted to concentrate solely on this approach for our modeling.\n",
    "\n",
    "For data cleaning, we decided to drop rows with missing values from the training and test sets. There were 436 rows in the training data frame that had at least one missing value and 146 rows in the testing data that had at least one missing value. In terms of specific variables, the ‘glucose’ variable had the most missing entries with 285 NA values in the training data and 103 NA values in the testing data. Glucose is correlated with diabetes, so by dropping those, that may have an impact on our final results.\n",
    "\n",
    "After cleaning the data and analyzing our training/testing sets, we picked out eight promising variables to use in our project to answer our research question and predict CHD likelihood. The relevant variables used to predict our target variable tenYearCHD are age, sex, sysBP, diaBP, totalChol, BMI, cigsPerDay, and glucose.\n",
    "\n",
    "## Relevant Variables\n",
    "\n",
    "- **age**: Age is a fundamental variable in the Framingham Study dataset, representing the age of participants at different time points. Tracking age allows researchers to understand how cardiovascular risk factors evolve over the lifespan and how they contribute to the development of CHD at different stages of life. When conducting the experiment, the researchers chose participants in the age range of 30-59. \n",
    "\n",
    "- **sysBP** (Systolic Blood Pressure) : sysBP represents the maximum pressure in the arteries during the heart's contraction phase (systole), indicating the force of blood being pumped from the heart. Elevated SBP is a key risk factor for cardiovascular diseases like heart attacks and strokes. The systolic blood pressure of each participant is measured in mmHg. The systolic blood pressure of each participant is measured in mmHg.\n",
    "\n",
    "- **diaBP** (Diastolic Blood Pressure): The variable diaBP reflects the minimum pressure in the arteries during the heart's relaxation phase (diastole), indicating the pressure when the heart is at rest between beats. Elevated DBP can signal increased vascular resistance and stiffness, contributing to hypertension and cardiovascular disease. The diastolic blood pressure of each participant is measured in mmHg.\n",
    "\n",
    "- **totalChol** (Total Cholesterol) : The total cholesterol, measured in mg/dL plays a crucial role in cardiovascular health, with elevated levels of total cholesterol linked to an increased risk of atherosclerosis and coronary artery disease. By monitoring participants' total cholesterol levels, the Framingham Study contributes to our understanding of lipid metabolism and the relationship between cholesterol levels and cardiovascular outcomes.\n",
    "\n",
    "- **sex** : Gender differences in cardiovascular risk have long been recognized, with men typically experiencing higher rates of cardiovascular diseases at younger ages, while women's risk increases following menopause. A value of 1 denotes male and a value of 0 denotes female in the dataset.\n",
    "\n",
    "- **glucose** : The blood glucose level (mg/dL) of each participant is measured and recorded in the dataset. Glucose levels are indicative of glycemic control and are closely linked to the development of type 2 diabetes mellitus, a major risk factor for cardiovascular disease. Elevated fasting glucose levels, as observed in prediabetes and diabetes, contribute to endothelial dysfunction, oxidative stress, and inflammation, promoting atherosclerosis and cardiovascular complications.\n",
    "\n",
    "- **BMI**: BMI is a measure of body fat based on an individual's weight and height and serves as a proxy for assessing overall fitness and can measure obesity which is a significant risk factor for cardiovascular disease, predisposing individuals to conditions such as hypertension, dyslipidemia, and type 2 diabetes.\n",
    "\n",
    "- **cigsPerDay**:  This variable represents the number of cigarettes smoked per day by an individual participant in the study. Smoking is a well-established risk factor for cardiovascular diseases such as coronary heart disease and stroke. The variable quantifies the frequency of smoking behavior among participants, providing valuable insights into the relationship between cigarette consumption and cardiovascular health outcomes as higher values of cigsPerDay indicate heavier smoking habits, which are associated with an increased risk of developing smoking-related diseases.\n",
    "\n",
    "- **tenYearCHD**:  The Ten-Year CHD score is a calculated variable from the study that estimates an individual's likelihood of experiencing a coronary event (such as myocardial infarction or coronary death) within the next ten years based on various risk factors in the dataset. This binary variable serves as a risk indicator with 0 representing a lower predicted risk for CHD and 1 representing a higher predicted risk of developing coronary heart disease within the next 10 years.\n",
    "\n"
   ]
  }
 ],
 "metadata": {
  "language_info": {
   "name": "python"
  }
 },
 "nbformat": 4,
 "nbformat_minor": 2
}
