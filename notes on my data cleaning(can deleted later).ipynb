{
 "cells": [
  {
   "cell_type": "markdown",
   "metadata": {},
   "source": [
    " Decision Tree (TREE)\n",
    "- Dropping All NAs:\n",
    "  - SSE: 105.868932\n",
    "  - MSE: 0.115830\n",
    "  - RMSE: 0.340339\n",
    "  - \\( R^2 \\): 0.069044\n",
    "- Imputing Median:\n",
    "  - SSE: 121.323862\n",
    "  - MSE: 0.119649\n",
    "  - RMSE: 0.345903\n",
    "  - \\( R^2 \\): 0.029692\n",
    "- Imputing Mean:\n",
    "  - SSE: 129.652016\n",
    "  - MSE: 0.127862\n",
    "  - RMSE: 0.357578\n",
    "  - \\( R^2 \\): -0.036914\n",
    "\n",
    "k-Nearest Neighbors (kNN)\n",
    "- Dropping All NAs:\n",
    "  - SSE: 103.207006\n",
    "  - MSE: 0.112918\n",
    "  - RMSE: 0.336033\n",
    "  - \\( R^2 \\): 0.092452\n",
    "- Imputing Median:\n",
    "  - SSE: 117.844875\n",
    "  - MSE: 0.116218\n",
    "  - RMSE: 0.340907\n",
    "  - \\( R^2 \\): 0.057516\n",
    "- Imputing Mean:\n",
    "  - SSE: 117.576531\n",
    "  - MSE: 0.115953\n",
    "  - RMSE: 0.340519\n",
    "  - \\( R^2 \\): 0.059662\n",
    "\n",
    "Linear Regression (LR)\n",
    "- Dropping All NAs:\n",
    "  - SSE: 105.588340\n",
    "  - MSE: 0.115523\n",
    "  - RMSE: 0.339887\n",
    "  - \\( R^2 \\): 0.071512\n",
    "- Imputing Median:\n",
    "  - SSE: 114.713108\n",
    "  - MSE: 0.113129\n",
    "  - RMSE: 0.336347\n",
    "  - \\( R^2 \\): 0.082562\n",
    "- Imputing Mean:\n",
    "  - SSE: 114.794026\n",
    "  - MSE: 0.113209\n",
    "  - RMSE: 0.336466\n",
    "  - \\( R^2 \\): 0.081915\n"
   ]
  },
  {
   "cell_type": "markdown",
   "metadata": {},
   "source": [
    "Decision Tree: original cleaning with dropping all NAs provided the best results. On both imputations the model performed significantly worse after cleaning.\n",
    "\n",
    "kNN: Dropping all NAs also has the best results but honestly the model performence for median and mean imputation are not that much worse than dropping all NAs.\n",
    "\n",
    "Linear Regression: Median imputation had the best results. Only model to have a signficiant benefit from cleaning (even though it is marginal)."
   ]
  }
 ],
 "metadata": {
  "language_info": {
   "name": "python"
  }
 },
 "nbformat": 4,
 "nbformat_minor": 2
}
